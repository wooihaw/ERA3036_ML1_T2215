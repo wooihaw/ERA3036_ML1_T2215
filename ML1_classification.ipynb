{
 "cells": [
  {
   "cell_type": "markdown",
   "id": "8822cefd",
   "metadata": {},
   "source": [
    "Name:\n",
    "\n",
    "Student ID:"
   ]
  },
  {
   "cell_type": "code",
   "execution_count": null,
   "id": "7d927997",
   "metadata": {},
   "outputs": [],
   "source": [
    "# Load the modules and packages\n",
    "from pandas import read_csv\n",
    "from sklearn.linear_model import LogisticRegression\n",
    "from sklearn.neighbors import KNeighborsClassifier\n",
    "from sklearn.naive_bayes import GaussianNB\n",
    "from sklearn.svm import SVC\n",
    "from sklearn.tree import DecisionTreeClassifier\n",
    "from sklearn.ensemble import RandomForestClassifier, GradientBoostingClassifier\n",
    "from sklearn.model_selection import KFold, cross_val_score"
   ]
  },
  {
   "cell_type": "code",
   "execution_count": null,
   "id": "8b8d7640",
   "metadata": {},
   "outputs": [],
   "source": [
    "# Load dataset into DataFrame\n",
    "df = read_csv(\"ips_basic.csv\")\n",
    "df.head()"
   ]
  },
  {
   "cell_type": "code",
   "execution_count": null,
   "id": "5ed0f9f1",
   "metadata": {},
   "outputs": [],
   "source": [
    "# Split to features and targets\n",
    "X = df.values[:, :-1]\n",
    "y = df.values[:, -1]\n",
    "\n",
    "print(f\"X dimensionality: {X.shape}\")\n",
    "print(f\"y dimensionality: {y.shape}\")"
   ]
  },
  {
   "cell_type": "code",
   "execution_count": null,
   "id": "b374deda",
   "metadata": {},
   "outputs": [],
   "source": [
    "# Train and validate models\n",
    "kf = KFold(n_splits=3, shuffle=True, random_state=42)\n",
    "models = {}\n",
    "models['lgr'] = LogisticRegression()\n",
    "models['knn'] = KNeighborsClassifier()\n",
    "models['gnb'] = GaussianNB()\n",
    "models['svc'] = SVC()\n",
    "models['dtc'] = DecisionTreeClassifier()\n",
    "models['rfc'] = RandomForestClassifier()\n",
    "models['gbc'] = GradientBoostingClassifier()\n",
    "\n",
    "for k in models:\n",
    "    scores = cross_val_score(models[k], X, y, cv=kf, n_jobs=-1)\n",
    "    print(f\"Model: {k}, mean accuracy: {scores.mean():.3%}, std: {scores.std():.3%}\")"
   ]
  },
  {
   "cell_type": "code",
   "execution_count": null,
   "id": "356d60b9",
   "metadata": {},
   "outputs": [],
   "source": []
  }
 ],
 "metadata": {
  "kernelspec": {
   "display_name": "Python 3 (ipykernel)",
   "language": "python",
   "name": "python3"
  },
  "language_info": {
   "codemirror_mode": {
    "name": "ipython",
    "version": 3
   },
   "file_extension": ".py",
   "mimetype": "text/x-python",
   "name": "python",
   "nbconvert_exporter": "python",
   "pygments_lexer": "ipython3",
   "version": "3.9.13"
  }
 },
 "nbformat": 4,
 "nbformat_minor": 5
}
